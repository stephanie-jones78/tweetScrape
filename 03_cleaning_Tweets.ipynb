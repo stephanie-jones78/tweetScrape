{
 "cells": [
  {
   "cell_type": "code",
   "execution_count": 79,
   "id": "7f6b75e0",
   "metadata": {},
   "outputs": [
    {
     "name": "stderr",
     "output_type": "stream",
     "text": [
      "[nltk_data] Downloading package punkt to /Users/stephanie/nltk_data...\n",
      "[nltk_data]   Package punkt is already up-to-date!\n",
      "[nltk_data] Downloading package stopwords to\n",
      "[nltk_data]     /Users/stephanie/nltk_data...\n",
      "[nltk_data]   Unzipping corpora/stopwords.zip.\n"
     ]
    }
   ],
   "source": [
    "import pandas as pd\n",
    "\n",
    "# regular expressions library\n",
    "import re\n",
    "\n",
    "# other nlp libraries\n",
    "import nltk\n",
    "nltk.download('punkt')\n",
    "nltk.download('stopwords')\n",
    "\n",
    "from nltk.corpus import stopwords\n",
    "from nltk.tokenize import word_tokenize\n",
    "\n",
    "# show entire string of tweet\n",
    "pd.options.display.max_colwidth = 100"
   ]
  },
  {
   "cell_type": "code",
   "execution_count": 8,
   "id": "4b31d03c",
   "metadata": {
    "scrolled": true
   },
   "outputs": [
    {
     "data": {
      "text/html": [
       "<div>\n",
       "<style scoped>\n",
       "    .dataframe tbody tr th:only-of-type {\n",
       "        vertical-align: middle;\n",
       "    }\n",
       "\n",
       "    .dataframe tbody tr th {\n",
       "        vertical-align: top;\n",
       "    }\n",
       "\n",
       "    .dataframe thead th {\n",
       "        text-align: right;\n",
       "    }\n",
       "</style>\n",
       "<table border=\"1\" class=\"dataframe\">\n",
       "  <thead>\n",
       "    <tr style=\"text-align: right;\">\n",
       "      <th></th>\n",
       "      <th>tweets</th>\n",
       "    </tr>\n",
       "  </thead>\n",
       "  <tbody>\n",
       "    <tr>\n",
       "      <th>0</th>\n",
       "      <td>“UTSA HUB Program &amp; Whiting-Turner NATIONAL SECURITY COLLABORATION CENTER AND SCHOOL OF DATA SCI...</td>\n",
       "    </tr>\n",
       "    <tr>\n",
       "      <th>1</th>\n",
       "      <td>So many new followers from all over the world! These are exciting times for Population Data Scie...</td>\n",
       "    </tr>\n",
       "    <tr>\n",
       "      <th>2</th>\n",
       "      <td>For David Mongeau, \\n@UTSA\\n school’s founding director, data science is poetic https://sananton...</td>\n",
       "    </tr>\n",
       "    <tr>\n",
       "      <th>3</th>\n",
       "      <td>I'm feeling inspired by the School of Data Science and National Security Collaboration Center. T...</td>\n",
       "    </tr>\n",
       "    <tr>\n",
       "      <th>4</th>\n",
       "      <td>Check out the progress of @UTSA’s $90 million School of Data Science and National Security Colla...</td>\n",
       "    </tr>\n",
       "    <tr>\n",
       "      <th>5</th>\n",
       "      <td>For David Mongeau, UTSA school's founding director, data science is poetic https://sanantoniorep...</td>\n",
       "    </tr>\n",
       "    <tr>\n",
       "      <th>6</th>\n",
       "      <td>@UTSA\\n's new School for Data Science is hiring! I understand there will be a strong focus on ur...</td>\n",
       "    </tr>\n",
       "    <tr>\n",
       "      <th>7</th>\n",
       "      <td>Big thanks to the @SAISD student artists who painted the beautiful shovels used in the groundbre...</td>\n",
       "    </tr>\n",
       "    <tr>\n",
       "      <th>8</th>\n",
       "      <td>So, UTSA has a strong data science graduate certificate program…I can finish it in one year. It ...</td>\n",
       "    </tr>\n",
       "    <tr>\n",
       "      <th>9</th>\n",
       "      <td>UTSA holds virtual groundbreaking for School of Data Science and National Security Collaboration...</td>\n",
       "    </tr>\n",
       "    <tr>\n",
       "      <th>10</th>\n",
       "      <td>Graham Weston Gives $15 Million to UTSA for School of Data Science\\n\\nRead more here: https://if...</td>\n",
       "    </tr>\n",
       "    <tr>\n",
       "      <th>11</th>\n",
       "      <td>Big things happening at \\n@UTSAdowntown\\n ! Our co-founder, Graham Weston, has just made a huge ...</td>\n",
       "    </tr>\n",
       "    <tr>\n",
       "      <th>12</th>\n",
       "      <td>Gantt charts on Height: plan your projects as clear, visual timelines</td>\n",
       "    </tr>\n",
       "    <tr>\n",
       "      <th>13</th>\n",
       "      <td>ICYMI, couldn't be more excited about \\n@utsadata\\n  UTSA's new School of Data Science!</td>\n",
       "    </tr>\n",
       "    <tr>\n",
       "      <th>14</th>\n",
       "      <td>Big thank you to \\n@FrostBank\\n for their $1 million gift establishing the Frost Excellence Fund...</td>\n",
       "    </tr>\n",
       "    <tr>\n",
       "      <th>15</th>\n",
       "      <td>As part of a collective of higher learning institutions chosen to drive social impact through da...</td>\n",
       "    </tr>\n",
       "    <tr>\n",
       "      <th>16</th>\n",
       "      <td>UTSA M.S. and Ph.D. students, submit your cyber security or data science research proposal by Fe...</td>\n",
       "    </tr>\n",
       "    <tr>\n",
       "      <th>17</th>\n",
       "      <td>Remembering the historic moment when we signed the final beam for the #UTSA School of Data Scien...</td>\n",
       "    </tr>\n",
       "    <tr>\n",
       "      <th>18</th>\n",
       "      <td>We're excited \\n@UTSA\\n ! \\n@gocodeup\\n also launching its 1st data science program Feb 2019. Da...</td>\n",
       "    </tr>\n",
       "    <tr>\n",
       "      <th>19</th>\n",
       "      <td>A new tenure-track / tenured position is open \\n@UTSA\\n in human performance, w/expertise in res...</td>\n",
       "    </tr>\n",
       "    <tr>\n",
       "      <th>20</th>\n",
       "      <td>A virtual tour of the future UTSA School of Data Science and National Security Collaboration Cen...</td>\n",
       "    </tr>\n",
       "    <tr>\n",
       "      <th>21</th>\n",
       "      <td>Exciting to see progress on the UTSA School of Data Science and National Security Collaboration ...</td>\n",
       "    </tr>\n",
       "    <tr>\n",
       "      <th>22</th>\n",
       "      <td>what’s better than one degree? two.\\n~utsa master of science in data analytics 2020</td>\n",
       "    </tr>\n",
       "    <tr>\n",
       "      <th>23</th>\n",
       "      <td>A day to say THANK YOU to the 225 workers constructing the SDS/NSCC building in downtown San Ant...</td>\n",
       "    </tr>\n",
       "    <tr>\n",
       "      <th>24</th>\n",
       "      <td>I’m beyond thrilled to share that Dr. \\n@AbrahamHGibson\\n will be joining the Department of Hist...</td>\n",
       "    </tr>\n",
       "    <tr>\n",
       "      <th>25</th>\n",
       "      <td>Downtown SA, once UTSA’s School of Data Science and National Security Collaboration Center is co...</td>\n",
       "    </tr>\n",
       "    <tr>\n",
       "      <th>26</th>\n",
       "      <td>A school with no walls - what's the future of \\n@UTSA\\n School of Data Science?\\nA \"team approac...</td>\n",
       "    </tr>\n",
       "    <tr>\n",
       "      <th>27</th>\n",
       "      <td>UTSA taps David Mongeau to lead new School of Data Science - San Antonio Business Journal\\n@Nfin...</td>\n",
       "    </tr>\n",
       "    <tr>\n",
       "      <th>28</th>\n",
       "      <td>Things are in motion for \\n@UTSAdowntown\\n and The UTSA School of Data Science! #CentroSA #UTSA ...</td>\n",
       "    </tr>\n",
       "    <tr>\n",
       "      <th>29</th>\n",
       "      <td>Driving through downtown and \\n@UTSA\\n’s new school of Data Science is visible from the highway.</td>\n",
       "    </tr>\n",
       "    <tr>\n",
       "      <th>30</th>\n",
       "      <td>@UTSA\\n’s new school of data science in downtown SATX is slated to become the largest informatio...</td>\n",
       "    </tr>\n",
       "    <tr>\n",
       "      <th>31</th>\n",
       "      <td>One former \\n@UCBerkeley\\n executive director will serve as the founding director for the School...</td>\n",
       "    </tr>\n",
       "    <tr>\n",
       "      <th>32</th>\n",
       "      <td>Weekly #tech news roundup: Hub for data science and cyber, our growing city, tech jobs &amp; more! C...</td>\n",
       "    </tr>\n",
       "    <tr>\n",
       "      <th>33</th>\n",
       "      <td>Art meets Science downtown, we love it! Super excited for our new neighbors \\n@UTSA\\n School of ...</td>\n",
       "    </tr>\n",
       "    <tr>\n",
       "      <th>34</th>\n",
       "      <td>Help \\n@utsadata\\n #BuildTheNest\\n\\nThe #UTSA School of Data Science is developing downtown! Sup...</td>\n",
       "    </tr>\n",
       "    <tr>\n",
       "      <th>35</th>\n",
       "      <td>Save the date!!\\n\\nJoin us for our upcoming San Antonio Innovation Forum: Better Savings, Better...</td>\n",
       "    </tr>\n",
       "    <tr>\n",
       "      <th>36</th>\n",
       "      <td>.\\n@UTSA\\n downtown campus to immediately begin expansion east of I-35 with design of $33M Natio...</td>\n",
       "    </tr>\n",
       "    <tr>\n",
       "      <th>37</th>\n",
       "      <td>HAVE YOU HEARD ABOUT OUR SECOND HOME  Located in downtown San Antonio, the new UTSA School of Da...</td>\n",
       "    </tr>\n",
       "    <tr>\n",
       "      <th>38</th>\n",
       "      <td>SAISD students participating in SMART, a program designed to teach about the intersection of art...</td>\n",
       "    </tr>\n",
       "    <tr>\n",
       "      <th>39</th>\n",
       "      <td>We're looking at our top stories of 2021—among them, that gorgeous day when our city and univers...</td>\n",
       "    </tr>\n",
       "    <tr>\n",
       "      <th>40</th>\n",
       "      <td>#UTSA is building bold futures and creating pathways for our students into careers in data scien...</td>\n",
       "    </tr>\n",
       "    <tr>\n",
       "      <th>41</th>\n",
       "      <td>The final beam is in place for the new \\n@UTSA\\n School of Data Science and National Security Co...</td>\n",
       "    </tr>\n",
       "    <tr>\n",
       "      <th>42</th>\n",
       "      <td>The Virtual Groundbreaking of \\n@UTSA\\n School of Data Science is live! Centro is proud to lend ...</td>\n",
       "    </tr>\n",
       "    <tr>\n",
       "      <th>43</th>\n",
       "      <td>Big giant statements coming from \\n@gweston\\n during \\n@sastartupweek\\n on his partnership with ...</td>\n",
       "    </tr>\n",
       "    <tr>\n",
       "      <th>44</th>\n",
       "      <td>“Accidental technologist” David Mongeau will welcome about 400 students to Texas’ first school o...</td>\n",
       "    </tr>\n",
       "    <tr>\n",
       "      <th>45</th>\n",
       "      <td>Last week marked another step in creating a vision for new public-private data science research ...</td>\n",
       "    </tr>\n",
       "    <tr>\n",
       "      <th>46</th>\n",
       "      <td>The donation will support the UTSA's over 6,000 data science students and their research project...</td>\n",
       "    </tr>\n",
       "    <tr>\n",
       "      <th>47</th>\n",
       "      <td>In case you missed last month's #InventingAmerica conference, watch the full conference NOW. Inc...</td>\n",
       "    </tr>\n",
       "    <tr>\n",
       "      <th>48</th>\n",
       "      <td>Height is the all-in-one project management tool. Now with Gantt charts.</td>\n",
       "    </tr>\n",
       "  </tbody>\n",
       "</table>\n",
       "</div>"
      ],
      "text/plain": [
       "                                                                                                 tweets\n",
       "0   “UTSA HUB Program & Whiting-Turner NATIONAL SECURITY COLLABORATION CENTER AND SCHOOL OF DATA SCI...\n",
       "1   So many new followers from all over the world! These are exciting times for Population Data Scie...\n",
       "2   For David Mongeau, \\n@UTSA\\n school’s founding director, data science is poetic https://sananton...\n",
       "3   I'm feeling inspired by the School of Data Science and National Security Collaboration Center. T...\n",
       "4   Check out the progress of @UTSA’s $90 million School of Data Science and National Security Colla...\n",
       "5   For David Mongeau, UTSA school's founding director, data science is poetic https://sanantoniorep...\n",
       "6   @UTSA\\n's new School for Data Science is hiring! I understand there will be a strong focus on ur...\n",
       "7   Big thanks to the @SAISD student artists who painted the beautiful shovels used in the groundbre...\n",
       "8   So, UTSA has a strong data science graduate certificate program…I can finish it in one year. It ...\n",
       "9   UTSA holds virtual groundbreaking for School of Data Science and National Security Collaboration...\n",
       "10  Graham Weston Gives $15 Million to UTSA for School of Data Science\\n\\nRead more here: https://if...\n",
       "11  Big things happening at \\n@UTSAdowntown\\n ! Our co-founder, Graham Weston, has just made a huge ...\n",
       "12                                Gantt charts on Height: plan your projects as clear, visual timelines\n",
       "13              ICYMI, couldn't be more excited about \\n@utsadata\\n  UTSA's new School of Data Science!\n",
       "14  Big thank you to \\n@FrostBank\\n for their $1 million gift establishing the Frost Excellence Fund...\n",
       "15  As part of a collective of higher learning institutions chosen to drive social impact through da...\n",
       "16  UTSA M.S. and Ph.D. students, submit your cyber security or data science research proposal by Fe...\n",
       "17  Remembering the historic moment when we signed the final beam for the #UTSA School of Data Scien...\n",
       "18  We're excited \\n@UTSA\\n ! \\n@gocodeup\\n also launching its 1st data science program Feb 2019. Da...\n",
       "19  A new tenure-track / tenured position is open \\n@UTSA\\n in human performance, w/expertise in res...\n",
       "20  A virtual tour of the future UTSA School of Data Science and National Security Collaboration Cen...\n",
       "21  Exciting to see progress on the UTSA School of Data Science and National Security Collaboration ...\n",
       "22                  what’s better than one degree? two.\\n~utsa master of science in data analytics 2020\n",
       "23  A day to say THANK YOU to the 225 workers constructing the SDS/NSCC building in downtown San Ant...\n",
       "24  I’m beyond thrilled to share that Dr. \\n@AbrahamHGibson\\n will be joining the Department of Hist...\n",
       "25  Downtown SA, once UTSA’s School of Data Science and National Security Collaboration Center is co...\n",
       "26  A school with no walls - what's the future of \\n@UTSA\\n School of Data Science?\\nA \"team approac...\n",
       "27  UTSA taps David Mongeau to lead new School of Data Science - San Antonio Business Journal\\n@Nfin...\n",
       "28  Things are in motion for \\n@UTSAdowntown\\n and The UTSA School of Data Science! #CentroSA #UTSA ...\n",
       "29     Driving through downtown and \\n@UTSA\\n’s new school of Data Science is visible from the highway.\n",
       "30  @UTSA\\n’s new school of data science in downtown SATX is slated to become the largest informatio...\n",
       "31  One former \\n@UCBerkeley\\n executive director will serve as the founding director for the School...\n",
       "32  Weekly #tech news roundup: Hub for data science and cyber, our growing city, tech jobs & more! C...\n",
       "33  Art meets Science downtown, we love it! Super excited for our new neighbors \\n@UTSA\\n School of ...\n",
       "34  Help \\n@utsadata\\n #BuildTheNest\\n\\nThe #UTSA School of Data Science is developing downtown! Sup...\n",
       "35  Save the date!!\\n\\nJoin us for our upcoming San Antonio Innovation Forum: Better Savings, Better...\n",
       "36  .\\n@UTSA\\n downtown campus to immediately begin expansion east of I-35 with design of $33M Natio...\n",
       "37  HAVE YOU HEARD ABOUT OUR SECOND HOME  Located in downtown San Antonio, the new UTSA School of Da...\n",
       "38  SAISD students participating in SMART, a program designed to teach about the intersection of art...\n",
       "39  We're looking at our top stories of 2021—among them, that gorgeous day when our city and univers...\n",
       "40  #UTSA is building bold futures and creating pathways for our students into careers in data scien...\n",
       "41  The final beam is in place for the new \\n@UTSA\\n School of Data Science and National Security Co...\n",
       "42  The Virtual Groundbreaking of \\n@UTSA\\n School of Data Science is live! Centro is proud to lend ...\n",
       "43  Big giant statements coming from \\n@gweston\\n during \\n@sastartupweek\\n on his partnership with ...\n",
       "44  “Accidental technologist” David Mongeau will welcome about 400 students to Texas’ first school o...\n",
       "45  Last week marked another step in creating a vision for new public-private data science research ...\n",
       "46  The donation will support the UTSA's over 6,000 data science students and their research project...\n",
       "47  In case you missed last month's #InventingAmerica conference, watch the full conference NOW. Inc...\n",
       "48                             Height is the all-in-one project management tool. Now with Gantt charts."
      ]
     },
     "execution_count": 8,
     "metadata": {},
     "output_type": "execute_result"
    }
   ],
   "source": [
    "# bringing in tweets data\n",
    "df = pd.read_csv('tweets.csv', index_col = 0)\n",
    "df"
   ]
  },
  {
   "cell_type": "markdown",
   "id": "2ea6342d",
   "metadata": {},
   "source": [
    "## Text Cleaning"
   ]
  },
  {
   "cell_type": "code",
   "execution_count": 10,
   "id": "7a94456a",
   "metadata": {},
   "outputs": [
    {
     "name": "stdout",
     "output_type": "stream",
     "text": [
      "“UTSA HUB Program & Whiting-Turner NATIONAL SECURITY COLLABORATION CENTER AND SCHOOL OF DATA SCIENCE (NSCC/SDS) “ WEBINAR\n",
      "\n",
      "“Learn about NSCC/SDS Bidding opportunities and meet Whiting- Turner Co MEP Partners.”\n",
      "\n",
      "Register here:\n",
      "https://utsa.zoom.us/meeting/register/tJMuceCqqTkoHdzypIRCvHA7XQ-QFEc_RO-1…\n"
     ]
    }
   ],
   "source": [
    "# creating cleaner\n",
    "print(df.iloc[0]['tweets'])"
   ]
  },
  {
   "cell_type": "code",
   "execution_count": 20,
   "id": "5577db57",
   "metadata": {},
   "outputs": [
    {
     "data": {
      "text/plain": [
       "'So, UTSA has a strong data science graduate certificate program…I can finish it in one year. It would be super helpful in my current role.'"
      ]
     },
     "execution_count": 20,
     "metadata": {},
     "output_type": "execute_result"
    }
   ],
   "source": [
    "# storing tweet to build up code for loop and functions\n",
    "test_tweet = df.iloc[8]['tweets']\n",
    "test_tweet"
   ]
  },
  {
   "cell_type": "markdown",
   "id": "0a6435ea",
   "metadata": {},
   "source": [
    "> #### Using [regex101](https://regex101.com/) site to build regular expressions"
   ]
  },
  {
   "cell_type": "code",
   "execution_count": 78,
   "id": "7e29daab",
   "metadata": {},
   "outputs": [
    {
     "data": {
      "text/plain": [
       "'So UTSA has a strong data science graduate certificate program I can finish it in one year. It would be super helpful in my current role.'"
      ]
     },
     "execution_count": 78,
     "metadata": {},
     "output_type": "execute_result"
    }
   ],
   "source": [
    "# removing special characters, except for @ (to get mentions) and # to get (hashtags)\n",
    "no_specChars = ' '.join(re.findall(r'[a-zA-Z.@#]+', test_tweet))\n",
    "no_specChars"
   ]
  },
  {
   "cell_type": "code",
   "execution_count": 84,
   "id": "9dad78fd",
   "metadata": {},
   "outputs": [
    {
     "name": "stdout",
     "output_type": "stream",
     "text": [
      "['i', 'me', 'my', 'myself', 'we', 'our', 'ours', 'ourselves', 'you', \"you're\", \"you've\", \"you'll\", \"you'd\", 'your', 'yours', 'yourself', 'yourselves', 'he', 'him', 'his', 'himself', 'she', \"she's\", 'her', 'hers', 'herself', 'it', \"it's\", 'its', 'itself', 'they', 'them', 'their', 'theirs', 'themselves', 'what', 'which', 'who', 'whom', 'this', 'that', \"that'll\", 'these', 'those', 'am', 'is', 'are', 'was', 'were', 'be', 'been', 'being', 'have', 'has', 'had', 'having', 'do', 'does', 'did', 'doing', 'a', 'an', 'the', 'and', 'but', 'if', 'or', 'because', 'as', 'until', 'while', 'of', 'at', 'by', 'for', 'with', 'about', 'against', 'between', 'into', 'through', 'during', 'before', 'after', 'above', 'below', 'to', 'from', 'up', 'down', 'in', 'out', 'on', 'off', 'over', 'under', 'again', 'further', 'then', 'once', 'here', 'there', 'when', 'where', 'why', 'how', 'all', 'any', 'both', 'each', 'few', 'more', 'most', 'other', 'some', 'such', 'no', 'nor', 'not', 'only', 'own', 'same', 'so', 'than', 'too', 'very', 's', 't', 'can', 'will', 'just', 'don', \"don't\", 'should', \"should've\", 'now', 'd', 'll', 'm', 'o', 're', 've', 'y', 'ain', 'aren', \"aren't\", 'couldn', \"couldn't\", 'didn', \"didn't\", 'doesn', \"doesn't\", 'hadn', \"hadn't\", 'hasn', \"hasn't\", 'haven', \"haven't\", 'isn', \"isn't\", 'ma', 'mightn', \"mightn't\", 'mustn', \"mustn't\", 'needn', \"needn't\", 'shan', \"shan't\", 'shouldn', \"shouldn't\", 'wasn', \"wasn't\", 'weren', \"weren't\", 'won', \"won't\", 'wouldn', \"wouldn't\"]\n"
     ]
    }
   ],
   "source": [
    "# getting list of english stop words\n",
    "stopWords = stopwords.words('english')\n",
    "print(stopWords)"
   ]
  },
  {
   "cell_type": "code",
   "execution_count": 88,
   "id": "28989ddb",
   "metadata": {},
   "outputs": [
    {
     "name": "stdout",
     "output_type": "stream",
     "text": [
      "['So', 'UTSA', 'has', 'a', 'strong', 'data', 'science', 'graduate', 'certificate', 'program', 'I', 'can', 'finish', 'it', 'in', 'one', 'year.', 'It', 'would', 'be', 'super', 'helpful', 'in', 'my', 'current', 'role.']\n"
     ]
    }
   ],
   "source": [
    "# splitting tweet string into individual word strings\n",
    "tweetWords = no_specChars.split()\n",
    "print(tweetWords)"
   ]
  },
  {
   "cell_type": "code",
   "execution_count": 91,
   "id": "90ffa505",
   "metadata": {},
   "outputs": [
    {
     "data": {
      "text/plain": [
       "'So UTSA strong data science graduate certificate program I finish one year. It would super helpful current role.'"
      ]
     },
     "execution_count": 91,
     "metadata": {},
     "output_type": "execute_result"
    }
   ],
   "source": [
    "# removing words from tweet that are in stop words list\n",
    "tweetWords_noStop = ' '.join(word for word in tweetWords if word not in stopWords)\n",
    "tweetWords_noStop"
   ]
  },
  {
   "cell_type": "code",
   "execution_count": null,
   "id": "4cd5b7d2",
   "metadata": {},
   "outputs": [],
   "source": []
  }
 ],
 "metadata": {
  "kernelspec": {
   "display_name": "Python 3",
   "language": "python",
   "name": "python3"
  },
  "language_info": {
   "codemirror_mode": {
    "name": "ipython",
    "version": 3
   },
   "file_extension": ".py",
   "mimetype": "text/x-python",
   "name": "python",
   "nbconvert_exporter": "python",
   "pygments_lexer": "ipython3",
   "version": "3.8.8"
  }
 },
 "nbformat": 4,
 "nbformat_minor": 5
}
